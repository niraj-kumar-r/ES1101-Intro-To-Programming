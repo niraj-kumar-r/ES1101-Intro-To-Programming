{
  "nbformat": 4,
  "nbformat_minor": 0,
  "metadata": {
    "colab": {
      "name": "lab2_ES1101.ipynb",
      "provenance": [],
      "collapsed_sections": []
    },
    "kernelspec": {
      "name": "python3",
      "display_name": "Python 3"
    },
    "language_info": {
      "name": "python"
    }
  },
  "cells": [
    {
      "cell_type": "markdown",
      "metadata": {
        "id": "UNLrp3wlK81d"
      },
      "source": [
        "**Do not edit the following 5 cells**"
      ]
    },
    {
      "cell_type": "code",
      "metadata": {
        "colab": {
          "base_uri": "https://localhost:8080/"
        },
        "id": "Gj_wbTGYDOS5",
        "outputId": "1a4822d8-1783-4ab8-fc5e-76e96ebbf131"
      },
      "source": [
        "%%writefile ct.h\n",
        "\n",
        "#include<iostream>\n",
        "#define start using namespace std; int main(){ int x,y,z,i,j,k,n,sum,r;\n",
        "#define read cin>>\n",
        "#define print(n) cout<<n<<\" \";\n",
        "#define end  cout<<endl; return 0;}\n",
        "#define repeat(n) for(i=1; i<=n; i++)\n",
        "#define repeatRange(i,m,n) for(i=m;i<=n;i++)\n",
        "#define repeatUntil(x) for(;!(x); )\n",
        "#define repeatIf(x) for(;x;)"
      ],
      "execution_count": null,
      "outputs": [
        {
          "output_type": "stream",
          "name": "stdout",
          "text": [
            "Overwriting ct.h\n"
          ]
        }
      ]
    },
    {
      "cell_type": "code",
      "metadata": {
        "colab": {
          "base_uri": "https://localhost:8080/"
        },
        "id": "DoD-AKOrGeyv",
        "outputId": "be66a400-aaf3-484d-e443-22235c8cdf4a"
      },
      "source": [
        "%%writefile start.cpp\n",
        "#include \"ct.h\" \n",
        "start"
      ],
      "execution_count": null,
      "outputs": [
        {
          "output_type": "stream",
          "name": "stdout",
          "text": [
            "Overwriting start.cpp\n"
          ]
        }
      ]
    },
    {
      "cell_type": "code",
      "metadata": {
        "colab": {
          "base_uri": "https://localhost:8080/"
        },
        "id": "Y6Kdhyf7G26o",
        "outputId": "4a392f4a-9857-4699-983e-4f42e37fc531"
      },
      "source": [
        "%%writefile end.cpp\n",
        "\n",
        "end"
      ],
      "execution_count": null,
      "outputs": [
        {
          "output_type": "stream",
          "name": "stdout",
          "text": [
            "Overwriting end.cpp\n"
          ]
        }
      ]
    },
    {
      "cell_type": "code",
      "metadata": {
        "colab": {
          "base_uri": "https://localhost:8080/"
        },
        "id": "JCHpGlw0C1-n",
        "outputId": "322256d9-d1f0-41f5-8263-fcbfcbac40c2"
      },
      "source": [
        "%%writefile translate\n",
        "rm new.cpp\n",
        "cat start.cpp $1 end.cpp >> new.cpp\n",
        "g++ new.cpp"
      ],
      "execution_count": null,
      "outputs": [
        {
          "output_type": "stream",
          "name": "stdout",
          "text": [
            "Overwriting translate\n"
          ]
        }
      ]
    },
    {
      "cell_type": "code",
      "metadata": {
        "id": "AyAgWQiEDVz-"
      },
      "source": [
        "%%script bash\n",
        "chmod +x translate"
      ],
      "execution_count": null,
      "outputs": []
    },
    {
      "cell_type": "markdown",
      "metadata": {
        "id": "HUDVilEHLb_w"
      },
      "source": [
        "***Programs***"
      ]
    },
    {
      "cell_type": "code",
      "metadata": {
        "colab": {
          "base_uri": "https://localhost:8080/"
        },
        "id": "v1YFADaeBsay",
        "outputId": "892aa1ac-f42f-4d38-d5e5-5ae37567a2b1"
      },
      "source": [
        "%%writefile t1.cpp\n",
        "\n",
        "print(\"enter a number :\");\n",
        "read(n);\n",
        "\n",
        "if(n>0){\n",
        "\t\tcout<<n<<\" is Positive\"<<endl;\n",
        "}\n",
        "else if(n<0){\n",
        "\t\tcout<<n<<\" is Negative\"<<endl;\n",
        "}\n",
        "\n",
        "else{\n",
        "\t\tcout<<n<<\" is Zero\"<<endl;\n",
        "}"
      ],
      "execution_count": null,
      "outputs": [
        {
          "output_type": "stream",
          "name": "stdout",
          "text": [
            "Writing t1.cpp\n"
          ]
        }
      ]
    },
    {
      "cell_type": "code",
      "metadata": {
        "colab": {
          "base_uri": "https://localhost:8080/"
        },
        "id": "3THKCWS350SQ",
        "outputId": "32d46600-8452-4c4d-9cc6-f597752e0cc1"
      },
      "source": [
        "%%writefile t2.cpp\n",
        "\n",
        "print(\"Enter a number :\");\n",
        "read(x);\n",
        "\n",
        "print(\"Enter a number :\");\n",
        "read(y);\n",
        "\n",
        "print(\"Enter a number :\");\n",
        "read(z);\n",
        "\n",
        "if(x<y){\n",
        "\t\tif(x<z){\n",
        "\t\t\t\tcout<<x<<\" is the minimum number\";\n",
        "\t\t}\n",
        "\t\telse{\n",
        "\t\t\t\tcout<<z<<\" is the minimum number\";\n",
        "\t\t}\n",
        "}\n",
        "else{\n",
        "\t\tif(y<z){\n",
        "\t\t\t\tcout<<y<<\" is the minimum number\";\n",
        "\t\t}\n",
        "\t\telse{\n",
        "\t\t\t\tcout<<z<<\" is the minimum number\";\n",
        "\t\t}\n",
        "}"
      ],
      "execution_count": null,
      "outputs": [
        {
          "output_type": "stream",
          "name": "stdout",
          "text": [
            "Writing t2.cpp\n"
          ]
        }
      ]
    },
    {
      "cell_type": "code",
      "metadata": {
        "colab": {
          "base_uri": "https://localhost:8080/"
        },
        "id": "Ri7dGhctMT9H",
        "outputId": "2d9d4a67-e6de-452a-a3eb-acb73dafc393"
      },
      "source": [
        "%%writefile t3.cpp\n",
        "\n",
        "print(\"Enter a number :\");\n",
        "read(n);\n",
        "r=4;\n",
        "\n",
        "sum=0;\n",
        "j=1;\n",
        "repeat(n){\n",
        "\t\tsum+=j*j*j*j;\n",
        "\t\tj++;\n",
        "}\n",
        "print(sum);\n"
      ],
      "execution_count": null,
      "outputs": [
        {
          "output_type": "stream",
          "name": "stdout",
          "text": [
            "Writing t3.cpp\n"
          ]
        }
      ]
    },
    {
      "cell_type": "code",
      "metadata": {
        "colab": {
          "base_uri": "https://localhost:8080/"
        },
        "id": "9OkvjqwzMoaS",
        "outputId": "bc9e5819-5616-4fb1-81db-8dae9fa58e2d"
      },
      "source": [
        "%%writefile t4.cpp\n",
        "\n",
        "\n",
        "    print(\"Enter a number\");\n",
        "    read(x);\n",
        "    print(\"Enter a number\");\n",
        "    read(y);\n",
        "\n",
        "    z=x+y;\n",
        "    if(x>y){\n",
        "            x=y;\n",
        "            y=z-x;\n",
        "    }\n",
        "    repeatRange(j,x,y)\n",
        "    {\n",
        "            if(j%7==0){\n",
        "                    print(j);\n",
        "            }\n",
        "    }"
      ],
      "execution_count": null,
      "outputs": [
        {
          "output_type": "stream",
          "name": "stdout",
          "text": [
            "Overwriting t4.cpp\n"
          ]
        }
      ]
    },
    {
      "cell_type": "code",
      "metadata": {
        "colab": {
          "base_uri": "https://localhost:8080/"
        },
        "id": "YMumbenxNC9Z",
        "outputId": "a1435598-9a04-4124-e5bb-6b6bf3163f0f"
      },
      "source": [
        "%%writefile t5.cpp\n",
        "\n",
        "\n",
        "    print(\"Enter a number\");\n",
        "    read(x);\n",
        "    print(\"Enter a number\");\n",
        "    read(y);\n",
        "\n",
        "    z=x+y;\n",
        "    if(x>y){\n",
        "            x=y;\n",
        "            y=z-x;\n",
        "    }\n",
        "    k=0;\n",
        "    j=x;\n",
        "\n",
        "    repeatIf(j<y){\n",
        "        if(j%7==0 || j%8==0){\n",
        "            k++;\n",
        "        }\n",
        "\n",
        "        j++;\n",
        "    }\n",
        "    \n",
        "    print(\"Number of integers between the two numbers divisible by 7 or 8 are\");\n",
        "    print(k);"
      ],
      "execution_count": null,
      "outputs": [
        {
          "output_type": "stream",
          "name": "stdout",
          "text": [
            "Overwriting t5.cpp\n"
          ]
        }
      ]
    },
    {
      "cell_type": "code",
      "metadata": {
        "colab": {
          "base_uri": "https://localhost:8080/"
        },
        "id": "GwboIZgENKgR",
        "outputId": "98069aec-dc9b-48a4-b4da-9b68c1a035a6"
      },
      "source": [
        "%%writefile t6.cpp\n",
        "\n",
        "\n",
        "    print(\"Enter a number\");\n",
        "    read(n);\n",
        "    r=1;\n",
        "    j=1;\n",
        "    repeat(n){\n",
        "            r*=j;\n",
        "            j++;\n",
        "    }\n",
        "    print(r);"
      ],
      "execution_count": null,
      "outputs": [
        {
          "output_type": "stream",
          "name": "stdout",
          "text": [
            "Writing t6.cpp\n"
          ]
        }
      ]
    },
    {
      "cell_type": "code",
      "source": [
        "%%writefile t7.cpp\n",
        "\n",
        "print(\"Enter the base :\");\n",
        "read(x);\n",
        "print(\"Enter the exponent :\");\n",
        "read(y);\n",
        "\n",
        "r=1;\n",
        "\n",
        "repeat(y){\n",
        "    r*=x;\n",
        "}\n",
        "print(r);\n"
      ],
      "metadata": {
        "colab": {
          "base_uri": "https://localhost:8080/"
        },
        "id": "P7ze3314D9lf",
        "outputId": "b261ecbc-6ccb-42ed-eaec-416ab2d4448f"
      },
      "execution_count": null,
      "outputs": [
        {
          "output_type": "stream",
          "name": "stdout",
          "text": [
            "Writing t7.cpp\n"
          ]
        }
      ]
    },
    {
      "cell_type": "markdown",
      "metadata": {
        "id": "wor0Q-xiLg0u"
      },
      "source": [
        "**Compiling or Translating**"
      ]
    },
    {
      "cell_type": "code",
      "metadata": {
        "id": "1yETBEYREQcv"
      },
      "source": [
        "!./translate t7.cpp"
      ],
      "execution_count": null,
      "outputs": []
    },
    {
      "cell_type": "markdown",
      "metadata": {
        "id": "t_kIeJslLnW1"
      },
      "source": [
        "**Executing**"
      ]
    },
    {
      "cell_type": "code",
      "metadata": {
        "colab": {
          "base_uri": "https://localhost:8080/"
        },
        "id": "Xie5xi8qJjcV",
        "outputId": "262b4766-a4ad-47a7-e406-407a60da25b5"
      },
      "source": [
        "!./a.out"
      ],
      "execution_count": null,
      "outputs": [
        {
          "output_type": "stream",
          "name": "stdout",
          "text": [
            "Enter the base : 2\n",
            "Enter the exponent : 9\n",
            "512 \n"
          ]
        }
      ]
    },
    {
      "cell_type": "markdown",
      "metadata": {
        "id": "lzfTtRViK7ly"
      },
      "source": [
        ""
      ]
    }
  ]
}