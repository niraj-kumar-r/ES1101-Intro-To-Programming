{
  "nbformat": 4,
  "nbformat_minor": 0,
  "metadata": {
    "colab": {
      "name": "CS21B038_q_extra_lab2.ipynb",
      "provenance": [],
      "collapsed_sections": []
    },
    "kernelspec": {
      "name": "python3",
      "display_name": "Python 3"
    },
    "language_info": {
      "name": "python"
    }
  },
  "cells": [
    {
      "cell_type": "markdown",
      "metadata": {
        "id": "UNLrp3wlK81d"
      },
      "source": [
        "**Do not edit the following 5 cells**"
      ]
    },
    {
      "cell_type": "code",
      "metadata": {
        "colab": {
          "base_uri": "https://localhost:8080/"
        },
        "id": "Gj_wbTGYDOS5",
        "outputId": "e6c299b7-d3e1-4cde-b0a4-727e6db3ac52"
      },
      "source": [
        "%%writefile ct.h\n",
        "\n",
        "#include<iostream>\n",
        "#define start using namespace std; int main(){ int x,y,z,i,j,k,n,sum,r;\n",
        "#define read cin>>\n",
        "#define print(n) cout<<n<<\" \";\n",
        "#define end  cout<<endl; return 0;}\n",
        "#define repeat(n) for(i=1; i<=n; i++)\n",
        "#define repeatRange(i,m,n) for(i=m;i<=n;i++)\n",
        "#define repeatUntil(x) for(;!(x); )\n",
        "#define repeatIf(x) for(;x;)"
      ],
      "execution_count": null,
      "outputs": [
        {
          "output_type": "stream",
          "name": "stdout",
          "text": [
            "Writing ct.h\n"
          ]
        }
      ]
    },
    {
      "cell_type": "code",
      "metadata": {
        "colab": {
          "base_uri": "https://localhost:8080/"
        },
        "id": "DoD-AKOrGeyv",
        "outputId": "1f504be2-cbaf-4533-b032-2cd17f24811c"
      },
      "source": [
        "%%writefile start.cpp\n",
        "#include \"ct.h\" \n",
        "start"
      ],
      "execution_count": null,
      "outputs": [
        {
          "output_type": "stream",
          "name": "stdout",
          "text": [
            "Writing start.cpp\n"
          ]
        }
      ]
    },
    {
      "cell_type": "code",
      "metadata": {
        "colab": {
          "base_uri": "https://localhost:8080/"
        },
        "id": "Y6Kdhyf7G26o",
        "outputId": "8f222406-107c-49e6-9096-257929a6e18e"
      },
      "source": [
        "%%writefile end.cpp\n",
        "\n",
        "end"
      ],
      "execution_count": null,
      "outputs": [
        {
          "output_type": "stream",
          "name": "stdout",
          "text": [
            "Writing end.cpp\n"
          ]
        }
      ]
    },
    {
      "cell_type": "code",
      "metadata": {
        "colab": {
          "base_uri": "https://localhost:8080/"
        },
        "id": "JCHpGlw0C1-n",
        "outputId": "31ee6796-4595-4792-fe79-8de92c18fdda"
      },
      "source": [
        "%%writefile translate\n",
        "rm new.cpp\n",
        "cat start.cpp $1 end.cpp >> new.cpp\n",
        "g++ new.cpp"
      ],
      "execution_count": null,
      "outputs": [
        {
          "output_type": "stream",
          "name": "stdout",
          "text": [
            "Writing translate\n"
          ]
        }
      ]
    },
    {
      "cell_type": "code",
      "metadata": {
        "id": "AyAgWQiEDVz-"
      },
      "source": [
        "%%script bash\n",
        "chmod +x translate"
      ],
      "execution_count": null,
      "outputs": []
    },
    {
      "cell_type": "markdown",
      "metadata": {
        "id": "HUDVilEHLb_w"
      },
      "source": [
        "***Programs***"
      ]
    },
    {
      "cell_type": "code",
      "source": [
        "%%writefile e1.cpp\n",
        "\n",
        "print(\"Enter a number :\");\n",
        "read(x);\n",
        "\n",
        "print(\"Enter a number :\");\n",
        "read(y);\n",
        "\n",
        "z=x/y;\n",
        "\n",
        "if(x==y){\n",
        "    print(\"Both are the same number\");\n",
        "}\n",
        "else if(z==0){\n",
        "    print(x);\n",
        "    print(\"is smaller than\");\n",
        "    print(y);\n",
        "}\n",
        "\n",
        "else{\n",
        "    print(y);\n",
        "    print(\"is smaller than\");\n",
        "    print(x);\n",
        "    \n",
        "}\n",
        "\n"
      ],
      "metadata": {
        "colab": {
          "base_uri": "https://localhost:8080/"
        },
        "id": "P7ze3314D9lf",
        "outputId": "7c97dab7-6e25-459c-fd7d-a069dd0eba68"
      },
      "execution_count": null,
      "outputs": [
        {
          "output_type": "stream",
          "name": "stdout",
          "text": [
            "Overwriting e1.cpp\n"
          ]
        }
      ]
    },
    {
      "cell_type": "code",
      "source": [
        "%%writefile e2.cpp\n",
        "\n",
        "print(\"Enter a number :\");\n",
        "read(x);\n",
        "\n",
        "print(\"Enter a number :\");\n",
        "read(y);\n",
        "\n",
        "j=x<y?x:y;\n",
        "\n",
        "repeatIf(j>0){\n",
        "    if(x%j==0 && y%j==0){\n",
        "        print(\"The HCF is\");\n",
        "        print(j);\n",
        "        j=0;\n",
        "    }\n",
        "    j--;\n",
        "}\n"
      ],
      "metadata": {
        "colab": {
          "base_uri": "https://localhost:8080/"
        },
        "id": "HafwfYDdUrPB",
        "outputId": "25898bf8-e5b0-4d34-9037-bf8f81e7f5fb"
      },
      "execution_count": null,
      "outputs": [
        {
          "output_type": "stream",
          "name": "stdout",
          "text": [
            "Overwriting e2.cpp\n"
          ]
        }
      ]
    },
    {
      "cell_type": "code",
      "source": [
        "%%writefile e3.cpp\n",
        "\n",
        "print(\"Enter a number :\");\n",
        "read(n);\n",
        "\n",
        "r=0;\n",
        "y=n;\n",
        "\n",
        "repeatIf(y!=0){\n",
        "    x=y%10;\n",
        "    r=(r*10)+x;\n",
        "    y/=10;\n",
        "}\n",
        "\n",
        "print(r);\n"
      ],
      "metadata": {
        "colab": {
          "base_uri": "https://localhost:8080/"
        },
        "id": "5p0n41x2ZF31",
        "outputId": "c0e64160-2d9c-4cdf-dc55-8c7ec8b47f29"
      },
      "execution_count": null,
      "outputs": [
        {
          "output_type": "stream",
          "name": "stdout",
          "text": [
            "Overwriting e3.cpp\n"
          ]
        }
      ]
    },
    {
      "cell_type": "code",
      "source": [
        "%%writefile e4.cpp\n",
        "\n",
        "print(\"Enter a number :\");\n",
        "read(n);\n",
        "j=1;\n",
        "repeat(10){\n",
        "    print(n*j);\n",
        "    j++;\n",
        "}\n"
      ],
      "metadata": {
        "colab": {
          "base_uri": "https://localhost:8080/"
        },
        "id": "ZLdvhclpaBpk",
        "outputId": "f2b4d319-c82e-410c-f3d3-6b702f44be33"
      },
      "execution_count": null,
      "outputs": [
        {
          "output_type": "stream",
          "name": "stdout",
          "text": [
            "Overwriting e4.cpp\n"
          ]
        }
      ]
    },
    {
      "cell_type": "markdown",
      "metadata": {
        "id": "wor0Q-xiLg0u"
      },
      "source": [
        "**Compiling or Translating**"
      ]
    },
    {
      "cell_type": "code",
      "metadata": {
        "id": "1yETBEYREQcv"
      },
      "source": [
        "!./translate e4.cpp"
      ],
      "execution_count": null,
      "outputs": []
    },
    {
      "cell_type": "markdown",
      "metadata": {
        "id": "t_kIeJslLnW1"
      },
      "source": [
        "**Executing**"
      ]
    },
    {
      "cell_type": "code",
      "metadata": {
        "colab": {
          "base_uri": "https://localhost:8080/"
        },
        "id": "Xie5xi8qJjcV",
        "outputId": "7be87d19-636e-406a-f329-919023ce4ca9"
      },
      "source": [
        "!./a.out"
      ],
      "execution_count": null,
      "outputs": [
        {
          "output_type": "stream",
          "name": "stdout",
          "text": [
            "Enter a number : 123\n",
            "123 246 369 492 615 738 861 984 1107 1230 \n"
          ]
        }
      ]
    },
    {
      "cell_type": "markdown",
      "metadata": {
        "id": "lzfTtRViK7ly"
      },
      "source": [
        ""
      ]
    }
  ]
}